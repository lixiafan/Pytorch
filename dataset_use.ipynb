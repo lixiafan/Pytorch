{
 "cells": [
  {
   "cell_type": "code",
   "execution_count": null,
   "metadata": {
    "collapsed": true
   },
   "outputs": [],
   "source": [
    "import torchvision\n",
    "from torch.utils.tensorboard import Summa ryWriter\n",
    "# 将数据集中的每一部分都转换为tensor类型，预先定义一个dataset_transform\n",
    "dataset_transform = torchvision.transforms.Compose([\n",
    "    torchvision.transforms.ToTensor()\n",
    "])\n",
    "\n",
    "train_set = torchvision.datasets.CIFAR10(root=\"./dataset\",train=True,transform=dataset_transform,download=True)\n",
    "test_set = torchvision.datasets.CIFAR10(root=\"./dataset\",train=False,transform=dataset_transform,download=True)\n",
    "\n",
    "writer = SummaryWriter('Dataset_download')\n",
    "for i in range(10):\n",
    "    img,target = test_set[i]\n",
    "    writer.add_image(\"test_set\",i)\n",
    "writer.close()"
   ]
  },
  {
   "cell_type": "code",
   "execution_count": null,
   "metadata": {
    "collapsed": true
   },
   "outputs": [],
   "source": []
  }
 ],
 "metadata": {
  "kernelspec": {
   "display_name": "tensorflow",
   "language": "python",
   "name": "tensorflow"
  }
 },
 "nbformat": 4,
 "nbformat_minor": 2
}
