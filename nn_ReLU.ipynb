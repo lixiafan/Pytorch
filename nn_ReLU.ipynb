{
 "cells": [
  {
   "cell_type": "code",
   "execution_count": 3,
   "metadata": {},
   "outputs": [
    {
     "name": "stdout",
     "output_type": "stream",
     "text": [
      "tensor([[[[1., 0.],\n",
      "          [0., 3.]]]])\n"
     ]
    }
   ],
   "source": [
    "import torch\n",
    "from torch import nn\n",
    "from torch.nn import ReLU\n",
    "\n",
    "input = torch.tensor([[1,-0.5],\n",
    "                     [-1,3]])\n",
    "\n",
    "input = torch.reshape(input,(-1,1,2,2))\n",
    "# print(input)\n",
    "# print(input.shape)\n",
    "# tensor([[[[ 1.0000, -0.5000],\n",
    "#           [-1.0000,  3.0000]]]])\n",
    "# torch.Size([1, 1, 2, 2])\n",
    "\n",
    "class Model(nn.Module):\n",
    "    def __init__(self):\n",
    "        super(Model,self).__init__()\n",
    "        self.relu1 = ReLU()#inplace默认为False\n",
    "        \n",
    "    def forward(self,input):\n",
    "        output = self.relu1(input)\n",
    "        return output\n",
    "    \n",
    "model = Model()\n",
    "output = model(input)\n",
    "print(output)\n",
    "# tensor([[[[1., 0.],\n",
    "#           [0., 3.]]]])"
   ]
  },
  {
   "cell_type": "code",
   "execution_count": 12,
   "metadata": {},
   "outputs": [
    {
     "name": "stdout",
     "output_type": "stream",
     "text": [
      "Files already downloaded and verified\n"
     ]
    }
   ],
   "source": [
    "import torchvision\n",
    "from torch.utils.data import DataLoader\n",
    "from torch.nn import Sigmoid\n",
    "from torch.utils.tensorboard import SummaryWriter\n",
    "\n",
    "dataset = torchvision.datasets.CIFAR10(\"./dataset\",train=False,download=True,transform=torchvision.transforms.ToTensor())\n",
    "dataloader = DataLoader(dataset,batch_size=64)\n",
    "\n",
    "class Model(nn.Module):\n",
    "    def __init__(self):\n",
    "        super(Model,self).__init__()\n",
    "        self.sigmoid1 = Sigmoid()\n",
    "        \n",
    "    def forward(self,input):\n",
    "        output = self.sigmoid1(input)\n",
    "        \n",
    "        return output\n",
    "step = 0\n",
    "writer = SummaryWriter(\"log_sig\")\n",
    "for data in dataloader:\n",
    "    imgs,targets = data\n",
    "#     print(imgs)\n",
    "    writer.add_images(\"input\",imgs,step)\n",
    "    output = model(imgs)\n",
    "    writer.add_images(\"output\",output,step)\n",
    "    step += 1\n",
    "writer.close()\n"
   ]
  },
  {
   "cell_type": "code",
   "execution_count": null,
   "metadata": {
    "collapsed": true
   },
   "outputs": [],
   "source": []
  }
 ],
 "metadata": {
  "kernelspec": {
   "display_name": "tensorflow",
   "language": "python",
   "name": "tensorflow"
  },
  "language_info": {
   "codemirror_mode": {
    "name": "ipython",
    "version": 3
   },
   "file_extension": ".py",
   "mimetype": "text/x-python",
   "name": "python",
   "nbconvert_exporter": "python",
   "pygments_lexer": "ipython3",
   "version": "3.6.10"
  }
 },
 "nbformat": 4,
 "nbformat_minor": 2
}
