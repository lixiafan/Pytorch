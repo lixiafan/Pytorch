{
 "cells": [
  {
   "cell_type": "code",
   "execution_count": 3,
   "metadata": {},
   "outputs": [
    {
     "name": "stdout",
     "output_type": "stream",
     "text": [
      "torch.Size([5, 5])\n",
      "torch.Size([3, 3])\n",
      "torch.Size([1, 1, 5, 5])\n",
      "torch.Size([1, 1, 3, 3])\n",
      "tensor([[[[10, 12, 12],\n",
      "          [18, 16, 16],\n",
      "          [13,  9,  3]]]])\n"
     ]
    }
   ],
   "source": [
    "import torch\n",
    "import torch.nn.functional as F\n",
    "input = torch.tensor([[1,2,0,3,1],\n",
    "                      [0,1,2,3,1],\n",
    "                      [1,2,1,0,0],\n",
    "                      [5,2,3,1,1],\n",
    "                      [2,1,0,1,1]])\n",
    "\n",
    "kernel = torch.tensor([[1,2,1],\n",
    "                       [0,1,0],\n",
    "                       [2,1,0]])\n",
    "print(input.shape)# torch.Size([5, 5])\n",
    "print(kernel.shape)# torch.Size([3, 3])\n",
    "input = torch.reshape(input,(1,1,5,5))\n",
    "kernel = torch.reshape(kernel,(1,1,3,3))\n",
    "print(input.shape)# torch.Size([1, 1, 5, 5])\n",
    "print(kernel.shape)# torch.Size([1, 1, 5, 5])\n",
    "\n",
    "# 基本卷积操作的实现\n",
    "output = F.conv2d(input,kernel,stride=1)\n",
    "print(output)\n",
    "# tensor([[[[10, 12, 12],\n",
    "#           [18, 16, 16],\n",
    "#           [13,  9,  3]]]])"
   ]
  },
  {
   "cell_type": "code",
   "execution_count": 5,
   "metadata": {},
   "outputs": [
    {
     "name": "stdout",
     "output_type": "stream",
     "text": [
      "tensor([[[[10, 12],\n",
      "          [13,  3]]]])\n"
     ]
    }
   ],
   "source": [
    "output2 = F.conv2d(input,kernel,stride=2)\n",
    "print(output2)\n",
    "# tensor([[[[10, 12],\n",
    "#           [13,  3]]]])"
   ]
  },
  {
   "cell_type": "code",
   "execution_count": 6,
   "metadata": {},
   "outputs": [
    {
     "name": "stdout",
     "output_type": "stream",
     "text": [
      "tensor([[[[ 1,  3,  4, 10,  8],\n",
      "          [ 5, 10, 12, 12,  6],\n",
      "          [ 7, 18, 16, 16,  8],\n",
      "          [11, 13,  9,  3,  4],\n",
      "          [14, 13,  9,  7,  4]]]])\n"
     ]
    }
   ],
   "source": [
    "output3 = F.conv2d(input,kernel,stride=1,padding=1)\n",
    "print(output3)\n",
    "# tensor([[[[ 1,  3,  4, 10,  8],\n",
    "#           [ 5, 10, 12, 12,  6],\n",
    "#           [ 7, 18, 16, 16,  8],\n",
    "#           [11, 13,  9,  3,  4],\n",
    "#           [14, 13,  9,  7,  4]]]])"
   ]
  },
  {
   "cell_type": "code",
   "execution_count": null,
   "metadata": {
    "collapsed": true
   },
   "outputs": [],
   "source": [
    "在图像数据集上进行操作："
   ]
  },
  {
   "cell_type": "code",
   "execution_count": 12,
   "metadata": {},
   "outputs": [
    {
     "name": "stdout",
     "output_type": "stream",
     "text": [
      "Files already downloaded and verified\n"
     ]
    }
   ],
   "source": [
    "import torch\n",
    "import torchvision #引入torchvision.datasets\n",
    "from torch.utils.data import DataLoader\n",
    "from torch import nn  #引入nn.Module\n",
    "from torch.nn import Conv2d\n",
    "from torch.utils.tensorboard import SummaryWriter\n",
    "\n",
    "dataset = torchvision.datasets.CIFAR10(\"./dataset\",train=False,transform=torchvision.transforms.ToTensor(),download=True)\n",
    "dataloader = DataLoader(dataset,batch_size=64)\n",
    "class Model(nn.Module):\n",
    "    def __init__(self):\n",
    "        super(Model,self).__init__()\n",
    "        self.conv1 = Conv2d(in_channels=3,out_channels=6,kernel_size=3,stride=1,padding=0)\n",
    "    def forward(self,x):\n",
    "        x = self.conv1(x)\n",
    "        return x\n",
    "  \n",
    "step = 0\n",
    "writer = SummaryWriter('log_conv2d')\n",
    "model = Model()#定义一个类对象\n",
    "# print(model)# Model( (conv1): Conv2d(3, 6, kernel_size=(3, 3), stride=(1, 1)) )\n",
    "for data in dataloader:\n",
    "    imgs,targets=data\n",
    "    output = model(imgs)\n",
    "    output = torch.reshape(output,(-1,3,30,30))\n",
    "#     print(imgs.shape)#torch.Size([64, 3, 32, 32])\n",
    "#     print(output.shape)#torch.Size([64, 6, 30, 30])\n",
    "    writer.add_images(\"input\",imgs,step)\n",
    "    writer.add_images(\"output\",output,step)\n",
    "    step += 1\n",
    "    writer.close()\n",
    "    "
   ]
  },
  {
   "cell_type": "code",
   "execution_count": null,
   "metadata": {
    "collapsed": true
   },
   "outputs": [],
   "source": []
  }
 ],
 "metadata": {
  "kernelspec": {
   "display_name": "tensorflow",
   "language": "python",
   "name": "tensorflow"
  },
  "language_info": {
   "codemirror_mode": {
    "name": "ipython",
    "version": 3
   },
   "file_extension": ".py",
   "mimetype": "text/x-python",
   "name": "python",
   "nbconvert_exporter": "python",
   "pygments_lexer": "ipython3",
   "version": "3.6.10"
  }
 },
 "nbformat": 4,
 "nbformat_minor": 2
}
