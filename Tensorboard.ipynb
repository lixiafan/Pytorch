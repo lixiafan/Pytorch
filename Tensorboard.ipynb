{
 "cells": [
  {
   "cell_type": "code",
   "execution_count": 8,
   "metadata": {},
   "outputs": [
    {
     "name": "stdout",
     "output_type": "stream",
     "text": [
      "(1080, 1921, 3)\n",
      "<class 'numpy.ndarray'>\n"
     ]
    }
   ],
   "source": [
    "from torch.utils.tensorboard import SummaryWriter\n",
    "from PIL import Image\n",
    "import numpy as np\n",
    "# 初始化一个文件夹dataloader\n",
    "writer1 = SummaryWriter(\"dataloader\") \n",
    "image_path = \"C:/Users/19937/Pictures/Camera Roll/20230103.jpg\"\n",
    "img_PIL = Image.open(image_path)\n",
    "img_PIL.show()\n",
    "img_array = np.array(img_PIL)\n",
    "print(img_array.shape)#(1080, 1921, 3)当通道数在最后一维时，需要给add_image()加上参数\n",
    "writer1.add_image(\"test\",img_array,1,dataformats='HWC') \n",
    "print(type(img_array))\n",
    "writer1.close()"
   ]
  },
  {
   "cell_type": "code",
   "execution_count": 10,
   "metadata": {
    "collapsed": true
   },
   "outputs": [],
   "source": [
    "writer2 = SummaryWriter(\"logs\")\n",
    "for i in range(100):\n",
    "    writer2.add_scalar(\"y=x\",i)\n",
    "writer2.close()"
   ]
  },
  {
   "cell_type": "code",
   "execution_count": null,
   "metadata": {
    "collapsed": true
   },
   "outputs": [],
   "source": [
    "#在命令行中输入下面的命令查看，可以指定端口号\n",
    "tensorboard --logdir=\"logs\" --port=6007\n",
    "tensorboard --logdir=\"dataloader\""
   ]
  }
 ],
 "metadata": {
  "kernelspec": {
   "display_name": "tensorflow",
   "language": "python",
   "name": "tensorflow"
  },
  "language_info": {
   "codemirror_mode": {
    "name": "ipython",
    "version": 3
   },
   "file_extension": ".py",
   "mimetype": "text/x-python",
   "name": "python",
   "nbconvert_exporter": "python",
   "pygments_lexer": "ipython3",
   "version": "3.6.10"
  }
 },
 "nbformat": 4,
 "nbformat_minor": 2
}
