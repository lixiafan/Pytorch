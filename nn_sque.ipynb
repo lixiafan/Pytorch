{
 "cells": [
  {
   "cell_type": "code",
   "execution_count": 6,
   "metadata": {},
   "outputs": [
    {
     "name": "stdout",
     "output_type": "stream",
     "text": [
      "torch.Size([64, 10])\n"
     ]
    }
   ],
   "source": [
    "from torch import nn\n",
    "from torch.nn import Conv2d,MaxPool2d,Flatten,Linear,Sequential\n",
    "import torch\n",
    "\n",
    "class Model(nn.Module):\n",
    "    def __init__(self):\n",
    "        super(Model,self).__init__()\n",
    "        self.conv1 = Conv2d(in_channels=3,out_channels=32,kernel_size=5,stride=1,padding=2)\n",
    "        self.maxpool1 = MaxPool2d(kernel_size=2)\n",
    "        self.conv2 = Conv2d(in_channels=32,out_channels=32,kernel_size=5,stride=1,padding=2)\n",
    "        self.maxpool2 = MaxPool2d(kernel_size=2)\n",
    "        self.conv3 = Conv2d(in_channels=32,out_channels=64,kernel_size=5,stride=1,padding=2)\n",
    "        self.maxpool3 = MaxPool2d(kernel_size=2)\n",
    "        self.flatten = Flatten()\n",
    "        self.linear1 = Linear(in_features=1024,out_features=64)\n",
    "        self.linear2 = Linear(in_features=64,out_features=10)\n",
    "        \n",
    "    def forward(self,x):\n",
    "        x = self.conv1(x)\n",
    "        x = self.maxpool1(x)\n",
    "        x = self.conv2(x)\n",
    "        x = self.maxpool2(x)\n",
    "        x = self.conv3(x)\n",
    "        x = self.maxpool3(x)\n",
    "        x = self.flatten(x)\n",
    "        x = self.linear1(x)\n",
    "        x = self.linear2(x)\n",
    "        return x\n",
    "    \n",
    "model = Model()\n",
    "# print(model)\n",
    "# Model(\n",
    "#   (conv1): Conv2d(3, 32, kernel_size=(5, 5), stride=(1, 1), padding=(2, 2))\n",
    "#   (maxpool1): MaxPool2d(kernel_size=2, stride=2, padding=0, dilation=1, ceil_mode=False)\n",
    "#   (conv2): Conv2d(32, 32, kernel_size=(5, 5), stride=(1, 1), padding=(2, 2))\n",
    "#   (maxpool2): MaxPool2d(kernel_size=2, stride=2, padding=0, dilation=1, ceil_mode=False)\n",
    "#   (conv3): Conv2d(32, 64, kernel_size=(5, 5), stride=(1, 1), padding=(2, 2))\n",
    "#   (maxpool3): MaxPool2d(kernel_size=2, stride=2, padding=0, dilation=1, ceil_mode=False)\n",
    "#   (flatten): Flatten()\n",
    "#   (linear1): Linear(in_features=1024, out_features=64, bias=True)\n",
    "#   (linear2): Linear(in_features=64, out_features=10, bias=True)\n",
    "# )\n",
    "\n",
    "input = torch.ones((64,3,32,32))\n",
    "output = model(input)\n",
    "print(output.shape)# torch.Size([64, 10])"
   ]
  },
  {
   "cell_type": "code",
   "execution_count": 7,
   "metadata": {},
   "outputs": [
    {
     "name": "stdout",
     "output_type": "stream",
     "text": [
      "Model(\n",
      "  (model1): Sequential(\n",
      "    (0): Conv2d(3, 32, kernel_size=(5, 5), stride=(1, 1), padding=(2, 2))\n",
      "    (1): MaxPool2d(kernel_size=2, stride=2, padding=0, dilation=1, ceil_mode=False)\n",
      "    (2): Conv2d(32, 32, kernel_size=(5, 5), stride=(1, 1), padding=(2, 2))\n",
      "    (3): MaxPool2d(kernel_size=2, stride=2, padding=0, dilation=1, ceil_mode=False)\n",
      "    (4): Conv2d(32, 64, kernel_size=(5, 5), stride=(1, 1), padding=(2, 2))\n",
      "    (5): MaxPool2d(kernel_size=2, stride=2, padding=0, dilation=1, ceil_mode=False)\n",
      "    (6): Flatten()\n",
      "    (7): Linear(in_features=1024, out_features=64, bias=True)\n",
      "    (8): Linear(in_features=64, out_features=10, bias=True)\n",
      "  )\n",
      ")\n",
      "torch.Size([64, 10])\n"
     ]
    }
   ],
   "source": [
    "from torch import nn\n",
    "from torch.nn import Conv2d,MaxPool2d,Flatten,Linear,Sequential\n",
    "import torch\n",
    "\n",
    "class Model(nn.Module):\n",
    "    def __init__(self):\n",
    "        super(Model,self).__init__()\n",
    "        self.model1 = Sequential(\n",
    "            Conv2d(in_channels=3,out_channels=32,kernel_size=5,stride=1,padding=2),\n",
    "            MaxPool2d(kernel_size=2),\n",
    "            Conv2d(in_channels=32,out_channels=32,kernel_size=5,stride=1,padding=2),\n",
    "            MaxPool2d(kernel_size=2),\n",
    "            Conv2d(in_channels=32,out_channels=64,kernel_size=5,stride=1,padding=2),\n",
    "            MaxPool2d(kernel_size=2),\n",
    "            Flatten(),\n",
    "            Linear(in_features=1024,out_features=64),\n",
    "            Linear(in_features=64,out_features=10)\n",
    "        )\n",
    "    def forward(self,x):\n",
    "        x = self.model1(x)\n",
    "        return x\n",
    "    \n",
    "model = Model()\n",
    "print(model)\n",
    "# Model(\n",
    "#   (model1): Sequential(\n",
    "#     (0): Conv2d(3, 32, kernel_size=(5, 5), stride=(1, 1), padding=(2, 2))\n",
    "#     (1): MaxPool2d(kernel_size=2, stride=2, padding=0, dilation=1, ceil_mode=False)\n",
    "#     (2): Conv2d(32, 32, kernel_size=(5, 5), stride=(1, 1), padding=(2, 2))\n",
    "#     (3): MaxPool2d(kernel_size=2, stride=2, padding=0, dilation=1, ceil_mode=False)\n",
    "#     (4): Conv2d(32, 64, kernel_size=(5, 5), stride=(1, 1), padding=(2, 2))\n",
    "#     (5): MaxPool2d(kernel_size=2, stride=2, padding=0, dilation=1, ceil_mode=False)\n",
    "#     (6): Flatten()\n",
    "#     (7): Linear(in_features=1024, out_features=64, bias=True)\n",
    "#     (8): Linear(in_features=64, out_features=10, bias=True)\n",
    "#   )\n",
    "# )\n",
    "input = torch.ones((64,3,32,32))\n",
    "output = model(input)\n",
    "print(output.shape)# torch.Size([64, 10])"
   ]
  },
  {
   "cell_type": "code",
   "execution_count": 8,
   "metadata": {
    "collapsed": true
   },
   "outputs": [],
   "source": [
    "from torch.utils.tensorboard import SummaryWriter\n",
    "writer = SummaryWriter(\"log_seq\")\n",
    "writer.add_graph(model,input)\n",
    "writer.close()"
   ]
  },
  {
   "cell_type": "code",
   "execution_count": null,
   "metadata": {
    "collapsed": true
   },
   "outputs": [],
   "source": []
  }
 ],
 "metadata": {
  "kernelspec": {
   "display_name": "tensorflow",
   "language": "python",
   "name": "tensorflow"
  },
  "language_info": {
   "codemirror_mode": {
    "name": "ipython",
    "version": 3
   },
   "file_extension": ".py",
   "mimetype": "text/x-python",
   "name": "python",
   "nbconvert_exporter": "python",
   "pygments_lexer": "ipython3",
   "version": "3.6.10"
  }
 },
 "nbformat": 4,
 "nbformat_minor": 2
}
